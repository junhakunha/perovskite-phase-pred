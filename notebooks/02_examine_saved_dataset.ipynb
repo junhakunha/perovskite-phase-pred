{
 "cells": [
  {
   "cell_type": "code",
   "execution_count": 1,
   "metadata": {},
   "outputs": [],
   "source": [
    "import os\n",
    "import sys\n",
    "import numpy as np\n",
    "\n",
    "sys.path.append(\"../\")\n",
    "sys.path.append(os.getcwd())\n",
    "\n",
    "from src.utils.constants import DATA_DIR"
   ]
  },
  {
   "cell_type": "code",
   "execution_count": 2,
   "metadata": {},
   "outputs": [],
   "source": [
    "dataset_file = np.load(os.path.join(DATA_DIR, \"dataset.npz\"))"
   ]
  },
  {
   "cell_type": "code",
   "execution_count": 3,
   "metadata": {},
   "outputs": [
    {
     "name": "stdout",
     "output_type": "stream",
     "text": [
      "['X', 'Y', 'X_labels', 'X_qual_num_classes', 'reaction_ids']\n"
     ]
    }
   ],
   "source": [
    "print(dataset_file.files)\n",
    "X = dataset_file[\"X\"]\n",
    "Y = dataset_file[\"Y\"]\n",
    "X_labels = dataset_file[\"X_labels\"]\n",
    "X_qual_num_classes = dataset_file[\"X_qual_num_classes\"]\n",
    "reaction_ids = dataset_file[\"reaction_ids\"]"
   ]
  },
  {
   "cell_type": "code",
   "execution_count": 4,
   "metadata": {},
   "outputs": [
    {
     "name": "stdout",
     "output_type": "stream",
     "text": [
      "=== X_qual_num_classes ===\n",
      "shape: (2,)\n",
      "[3 3]\n"
     ]
    }
   ],
   "source": [
    "print(\"=== X_qual_num_classes ===\")\n",
    "print(f\"shape: {X_qual_num_classes.shape}\")\n",
    "print(X_qual_num_classes)"
   ]
  },
  {
   "cell_type": "code",
   "execution_count": 5,
   "metadata": {},
   "outputs": [
    {
     "name": "stdout",
     "output_type": "stream",
     "text": [
      "=== X_labels ===\n",
      "shape: (37,)\n",
      "['halide' 'ion' 'ie' 'amw' 'frac_sp3' 'heavy_atom' 'nh_oh'\n",
      " 'aromatic_heter' 'aromatic_ring' 'h_accept' 'h_donot' 'num_heteroatom'\n",
      " 'num_rotable' 'num_aliphatic' 'aliphatic_heter' 'aromatic_c'\n",
      " 'saturated_heter' 'saturated_ring' 'max_partial_charge'\n",
      " 'min_partial_charge' 'numvalence' 'numradical' 'ionic_radius'\n",
      " 'ionization_energy_halide' 'electron_affinity_halide'\n",
      " 'pearson_hardness_halide' 'mulliken_electronegativity_halide'\n",
      " 'pauling_electronegativity_halide' 'number_of_electrons' 'atomic_mass'\n",
      " 'ionization_energy_metal' 'electron_affinity_metal'\n",
      " 'pearson_hardness_metal' 'mulliken_electronegativity_metal'\n",
      " 'pauling_electronegativity_metal' 'electrons' 'valence_d_electron_count']\n"
     ]
    }
   ],
   "source": [
    "print(\"=== X_labels ===\")\n",
    "print(f\"shape: {X_labels.shape}\")\n",
    "print(X_labels)"
   ]
  },
  {
   "cell_type": "code",
   "execution_count": 6,
   "metadata": {},
   "outputs": [
    {
     "name": "stdout",
     "output_type": "stream",
     "text": [
      "=== X ===\n",
      "shape: (290, 37)\n",
      "X[0]:\n",
      "[2.         2.         0.88888889 0.46666667 1.         0.14285714\n",
      " 0.4        0.         0.         0.14285714 0.33333333 0.\n",
      " 0.14285714 0.         0.         0.         0.         0.\n",
      " 0.40414723 0.69262259 0.17142857 0.         1.         0.\n",
      " 0.         0.23890063 0.         0.         1.         1.\n",
      " 0.         0.         0.23890063 0.         1.         1.\n",
      " 1.        ]\n"
     ]
    }
   ],
   "source": [
    "print(\"=== X ===\")\n",
    "print(f\"shape: {X.shape}\")\n",
    "print(\"X[0]:\")\n",
    "print(X[0])\n"
   ]
  },
  {
   "cell_type": "code",
   "execution_count": 9,
   "metadata": {},
   "outputs": [
    {
     "name": "stdout",
     "output_type": "stream",
     "text": [
      "=== Y ===\n",
      "shape: (290,)\n",
      "Y:\n",
      "[0 0 0 0 0 0 0 0 0 0 0 0 0 0 0 0 0 0 0 0 1 1 0 0 0 0 0 0 0 0 0 0 0 0 0 0 0\n",
      " 0 0 0 0 0 0 0 0 0 1 0 0 0 0 0 0 0 0 0 0 0 0 0 0 0 0 0 0 0 0 0 0 0 1 0 0 0\n",
      " 0 0 0 0 1 0 0 0 0 0 0 0 0 0 0 0 0 0 0 0 0 0 0 0 0 0 0 0 0 0 0 0 0 0 0 0 0\n",
      " 0 0 0 0 0 0 0 0 0 0 0 0 0 0 0 0 1 0 0 0 0 0 0 0 0 0 0 0 0 0 0 0 0 0 0 0 0\n",
      " 0 0 0 0 0 0 0 0 0 0 0 0 0 0 0 0 0 0 0 0 0 0 0 0 0 0 0 0 0 0 0 0 0 0 0 0 0\n",
      " 0 0 0 0 0 0 0 0 0 0 0 0 0 0 0 0 0 0 0 0 0 0 0 0 0 0 0 0 0 0 0 0 0 0 0 0 0\n",
      " 0 0 0 0 1 0 0 0 0 0 0 0 0 0 0 0 1 0 0 0 0 0 0 0 0 0 0 0 0 0 0 0 0 0 0 0 0\n",
      " 0 0 0 0 0 0 0 0 0 0 0 0 0 0 0 0 0 0 0 0 1 0 0 0 0 0 1 1 0 1 1]\n"
     ]
    }
   ],
   "source": [
    "print(\"=== Y ===\")\n",
    "print(f\"shape: {Y.shape}\")\n",
    "print(\"Y:\")\n",
    "print(Y)"
   ]
  },
  {
   "cell_type": "code",
   "execution_count": 8,
   "metadata": {},
   "outputs": [
    {
     "name": "stdout",
     "output_type": "stream",
     "text": [
      "=== reaction_ids ===\n",
      "shape: (290,)\n",
      "reaction_ids[0]:\n",
      "Pb++ + I + CCCCN\n"
     ]
    }
   ],
   "source": [
    "print(\"=== reaction_ids ===\")\n",
    "print(f\"shape: {reaction_ids.shape}\")\n",
    "print(\"reaction_ids[0]:\")\n",
    "print(reaction_ids[0])"
   ]
  }
 ],
 "metadata": {
  "kernelspec": {
   "display_name": "venv39",
   "language": "python",
   "name": "python3"
  },
  "language_info": {
   "codemirror_mode": {
    "name": "ipython",
    "version": 3
   },
   "file_extension": ".py",
   "mimetype": "text/x-python",
   "name": "python",
   "nbconvert_exporter": "python",
   "pygments_lexer": "ipython3",
   "version": "3.9.9"
  }
 },
 "nbformat": 4,
 "nbformat_minor": 2
}
