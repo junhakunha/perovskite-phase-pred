{
 "cells": [
  {
   "cell_type": "code",
   "execution_count": 3,
   "metadata": {},
   "outputs": [],
   "source": [
    "from encoder_model import EncoderModel\n",
    "import torch\n",
    "from dataset import SMILESDataset\n",
    "from torch.utils.data import DataLoader"
   ]
  },
  {
   "cell_type": "code",
   "execution_count": 4,
   "metadata": {},
   "outputs": [],
   "source": [
    "device = torch.device(\"cpu\")"
   ]
  },
  {
   "cell_type": "code",
   "execution_count": 5,
   "metadata": {},
   "outputs": [],
   "source": [
    "model_args = {\"d_model\": 512,\n",
    "              \"d_out\": None,\n",
    "              \"dim_feedforward\": 512,\n",
    "              \"is_causal\": True,\n",
    "              \"nhead\": 32,\n",
    "              \"num_layers\": 2,\n",
    "              \"output_head\": \"LogitOut\",\n",
    "              \"output_head_opts\": {\"d_model\": 512, \"d_out\": 41},\n",
    "              \"permute_output\": True,\n",
    "              \"pooler\": \"IdentityPool\",\n",
    "              \"pooler_opts\": {},\n",
    "              \"source_size\": 41,\n",
    "              \"src_embed\": \"nn.embed\",\n",
    "              \"src_forward_function\": \"src_fwd_fxn_basic\",\n",
    "              \"src_pad_token\": 38}"
   ]
  },
  {
   "cell_type": "code",
   "execution_count": 6,
   "metadata": {},
   "outputs": [
    {
     "data": {
      "text/plain": [
       "EncoderModel(\n",
       "  (network): EncoderNetwork(\n",
       "    (src_embed): Embedding(41, 512, padding_idx=38)\n",
       "    (pooler): IdentityPool()\n",
       "    (output_head): LogitOut(\n",
       "      (network): Linear(in_features=512, out_features=41, bias=True)\n",
       "    )\n",
       "    (pos_encoder): PositionalEncoding(\n",
       "      (dropout): Dropout(p=0.1, inplace=False)\n",
       "    )\n",
       "    (encoder): TransformerEncoder(\n",
       "      (layers): ModuleList(\n",
       "        (0-1): 2 x TransformerEncoderLayer(\n",
       "          (self_attn): MultiheadAttention(\n",
       "            (out_proj): NonDynamicallyQuantizableLinear(in_features=512, out_features=512, bias=True)\n",
       "          )\n",
       "          (linear1): Linear(in_features=512, out_features=512, bias=True)\n",
       "          (dropout): Dropout(p=0.1, inplace=False)\n",
       "          (linear2): Linear(in_features=512, out_features=512, bias=True)\n",
       "          (norm1): LayerNorm((512,), eps=1e-05, elementwise_affine=True)\n",
       "          (norm2): LayerNorm((512,), eps=1e-05, elementwise_affine=True)\n",
       "          (dropout1): Dropout(p=0.1, inplace=False)\n",
       "          (dropout2): Dropout(p=0.1, inplace=False)\n",
       "        )\n",
       "      )\n",
       "      (norm): LayerNorm((512,), eps=1e-05, elementwise_affine=True)\n",
       "    )\n",
       "  )\n",
       ")"
      ]
     },
     "execution_count": 6,
     "metadata": {},
     "output_type": "execute_result"
    }
   ],
   "source": [
    "model = EncoderModel(**model_args)\n",
    "model.eval()"
   ]
  },
  {
   "cell_type": "code",
   "execution_count": 7,
   "metadata": {},
   "outputs": [
    {
     "data": {
      "text/plain": [
       "<All keys matched successfully>"
      ]
     },
     "execution_count": 7,
     "metadata": {},
     "output_type": "execute_result"
    }
   ],
   "source": [
    "ckpt = torch.load(\"RESTART_checkpoint.pt\",\n",
    "                  map_location=device)[\"model_state_dict\"]\n",
    "curr_state_dict = model.state_dict()\n",
    "pretrained_dict = {k: v\n",
    "                   for k, v in ckpt.items()\n",
    "                   if curr_state_dict[k].shape == v.shape}\n",
    "\n",
    "model.load_state_dict(pretrained_dict, strict=False)"
   ]
  },
  {
   "cell_type": "markdown",
   "metadata": {},
   "source": [
    "# Create Dataset"
   ]
  },
  {
   "cell_type": "code",
   "execution_count": 8,
   "metadata": {},
   "outputs": [],
   "source": [
    "dataset = SMILESDataset(data_file = \"generative_smiles_dset.h5\", device = device)\n",
    "dataloader = DataLoader(dataset, batch_size=16, shuffle=False)"
   ]
  },
  {
   "cell_type": "markdown",
   "metadata": {},
   "source": [
    "# Compute Loss (Sanity Check)"
   ]
  },
  {
   "cell_type": "code",
   "execution_count": 9,
   "metadata": {},
   "outputs": [],
   "source": [
    "loss_fn = torch.nn.CrossEntropyLoss(ignore_index=38)"
   ]
  },
  {
   "cell_type": "code",
   "execution_count": 10,
   "metadata": {},
   "outputs": [
    {
     "name": "stdout",
     "output_type": "stream",
     "text": [
      "tensor(2.7282, grad_fn=<NllLoss2DBackward0>)\n"
     ]
    },
    {
     "name": "stderr",
     "output_type": "stream",
     "text": [
      "/Users/junhalee/Desktop/perovskite-phase-pred/venv39/lib/python3.9/site-packages/torch/nn/functional.py:5109: UserWarning: Support for mismatched src_key_padding_mask and mask is deprecated. Use same type for both instead.\n",
      "  warnings.warn(\n"
     ]
    }
   ],
   "source": [
    "for (x, y) in dataloader:\n",
    "    loss, _, _ = model.get_loss(x, y, loss_fn)\n",
    "    print(loss)\n",
    "    break"
   ]
  },
  {
   "cell_type": "markdown",
   "metadata": {},
   "source": [
    "# Save Embedding"
   ]
  },
  {
   "cell_type": "code",
   "execution_count": 11,
   "metadata": {},
   "outputs": [],
   "source": [
    "for (x, y) in dataloader:\n",
    "    model.save_embeddings(x)\n",
    "    break"
   ]
  },
  {
   "cell_type": "code",
   "execution_count": 13,
   "metadata": {},
   "outputs": [
    {
     "name": "stdout",
     "output_type": "stream",
     "text": [
      "<dataset.SMILESDataset object at 0x146997bb0>\n",
      "((tensor([39., 12., 34.,  4., 34., 34., 34., 35., 34.,  4., 38., 38., 38., 38.,\n",
      "        38., 38., 38., 38., 38., 38., 38., 38., 38., 38., 38., 38., 38., 38.,\n",
      "        38., 38., 38., 38., 38., 38., 38., 38., 38., 38., 38., 38., 38., 38.,\n",
      "        38., 38., 38., 38., 38., 38., 38.]), b'Brc1cccnc1'), (tensor([12., 34.,  4., 34., 34., 34., 35., 34.,  4., 40., 38., 38., 38., 38.,\n",
      "        38., 38., 38., 38., 38., 38., 38., 38., 38., 38., 38., 38., 38., 38.,\n",
      "        38., 38., 38., 38., 38., 38., 38., 38., 38., 38., 38., 38., 38., 38.,\n",
      "        38., 38., 38., 38., 38., 38., 38.]),))\n"
     ]
    }
   ],
   "source": [
    "print(dataset)\n",
    "print(dataset[0])"
   ]
  },
  {
   "cell_type": "code",
   "execution_count": null,
   "metadata": {},
   "outputs": [],
   "source": []
  }
 ],
 "metadata": {
  "kernelspec": {
   "display_name": "bpo",
   "language": "python",
   "name": "python3"
  },
  "language_info": {
   "codemirror_mode": {
    "name": "ipython",
    "version": 3
   },
   "file_extension": ".py",
   "mimetype": "text/x-python",
   "name": "python",
   "nbconvert_exporter": "python",
   "pygments_lexer": "ipython3",
   "version": "3.9.9"
  }
 },
 "nbformat": 4,
 "nbformat_minor": 2
}
