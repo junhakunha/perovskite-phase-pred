{
 "cells": [
  {
   "cell_type": "code",
   "execution_count": 8,
   "metadata": {},
   "outputs": [],
   "source": [
    "import torch\n",
    "import os\n",
    "import sys\n",
    "\n",
    "sys.path.append(\"../../\")\n",
    "sys.path.append(os.getcwd())\n",
    "\n",
    "from src.utils.constants import DATA_DIR\n"
   ]
  },
  {
   "cell_type": "code",
   "execution_count": 9,
   "metadata": {},
   "outputs": [
    {
     "data": {
      "text/plain": [
       "torch.Size([512])"
      ]
     },
     "execution_count": 9,
     "metadata": {},
     "output_type": "execute_result"
    }
   ],
   "source": [
    "all_embeddings = torch.load(os.path.join(DATA_DIR, \"all_smiles_to_embeddings.pt\"))\n",
    "all_embeddings[b\"Brc1cccnc1\"].shape"
   ]
  },
  {
   "cell_type": "code",
   "execution_count": 11,
   "metadata": {},
   "outputs": [
    {
     "name": "stdout",
     "output_type": "stream",
     "text": [
      "[b'CNCCCNC', b'CC(N)c1ccccc1', b'CNCCN', b'Nc1cccc2c(N)cccc12', b'CC(N)c1ccsc1', b'Cc1ccc(CN)cc1', b'NCc1ccco1', b'NCc1ccc(I)cc1', b'NCCCn1ccnc1', b'NCc1ccncc1', b'NCC1CCOCC1', b'C#CCCN', b'CCCCCCCCCN', b'NCCCCCI', b'NC1CCCCC1', b'NCc1ccc(Br)cc1', b'NCCc1c[nH]cn1', b'NC1CCCCC1N', b'Nc1ccc(N)cc1', b'NCCI', b'CCCN1CCNCC1', b'CC(N)c1ccc(Cl)cc1', b'CNc1ccccc1', b'Cc1ccsc1-c1ccc(-c2sc(-c3ccc(CCN)s3)cc2C)s1', b'COCCN', b'Cc1ccc(CCN)cc1', b'COC(=O)CCCN', b'NCc1ccc(O)cc1', b'CCCCCCCCN', b'NCCC(I)=CI', b'NCCC1=CCCCC1', b'Brc1cccnc1', b'Nc1ccc(Cl)cc1', b'CN1CCC(=O)CC1', b'Nc1cccc(N)c1', b'NCCc1ccc(Cl)cc1', b'Nc1ccc(-c2ccc(N)cc2)cc1', b'NCCN1CCNCC1', b'NCCc1cccc(N)c1', b'NCCCCCCI', b'N', b'NCCOc1ccc2ccc3cccc4ccc1c2c34', b'NCCCCCCCCCN', b'CCCCCCCN', b'CCC(C)[NH3+]', b'C[N+](C)(C)CN', b'CSCCN', b'NCC(N)=O', b'Cc1cc(C)cc(CCN)c1', b'COc1cc(CCN)ccc1O', b'NCCCCI', b'Nc1ccc(Br)cc1', b'CNc1ccc(F)cc1', b'NCCCl', b'NCc1ccc(F)cc1', b'NCCC(=O)O', b'NCCF', b'CSCCCN', b'Cc1ccsc1-c1ccc(-c2sc(-c3ccc(CCN)s3)cc2C)c2c1NSN2', b'NCCOCCOCCN', b'COCCCN', b'CC(=N)N', b'NCCc1cccc(F)c1', b'NCc1cccnc1', b'NCCc1ccc(O)cc1', b'Cc1ccc(C(C)N)cc1', b'CCC(CN)N(C)C', b'NC1CC1', b'CN(C)CCN', b'CNCc1cccc(F)c1', b'NCCCc1ccccc1', b'NCc1ccc(Cl)cc1', b'CNc1cccc(F)c1', b'NCCc1ccc(-c2ccccc2)cc1', b'CNCc1cccc(Br)c1', b'CC(CN)c1ccccc1', b'NC1CC[NH2+]C1', b'FC1CCNC1', b'NC1CCC1', b'NCCCCN', b'NCC1CCCCC1', b'CNc1ccc(OC)cc1', b'NCCCCCN', b'Nc1nccs1', b'NCCc1c[nH]c2ccccc12', b'N=C(N)N', b'C1COCCN1', b'NCCN1C=CC=CC1', b'N=C(N)c1cccnc1', b'NCCc1ccccc1', b'NCCc1cccnc1', b'NCc1ccc(CN)cc1', b'CCN', b'NCCc1ccccn1', b'CNCc1cccc(Cl)c1', b'NCCCCc1cc2cccc3ccc4cccc1c4c32', b'N#CCCCCN', b'C=CCN', b'Cc1cccc(CCN)c1', b'NCc1c(F)c(F)c(CN)c(F)c1F', b'NCCCCCCCCCCN', b'NCCOS(=O)(=O)O', b'CCCCCCCCCCCCCN', b'NCCCCOc1cccc2ccccc12', b'NCC1CCNCC1', b'NCCCCOc1ccc2ccc3cccc4ccc1c2c34', b'CCCCCCCCCCCCCCCN', b'NCc1cccs1', b'FC1(F)CCNC1', b'C1CNCCN1', b'CN(C)c1ccc(N(C)C)cc1', b'FC1CCCNCC1', b'CNCCCN', b'NCCc1ccncc1', b'NCCOc1ccc2cccc3c4cccc5cccc(c1c23)c54', b'NCCCI', b'NCC1CCSCC1', b'NCCS', b'NCCc1cc2cccc3ccc4cccc1c4c32', b'CCCCCN', b'CC(I)CN', b'CCCCCCCCCCN', b'CC(N)c1ccc(Br)cc1', b'NCC1CCCNC1', b'NC1CCOCC1', b'CCCNc1ccccc1', b'Nc1cccnc1', b'CNCc1ccncn1', b'NCCCCCCCCN', b'NCCCCCCN', b'COC(=O)CCN', b'NCc1ccccc1', b'N=C(N)SCCN', b'NCc1ccc2ccccc2c1', b'CC(=O)CN', b'NCCc1ccccc1Br', b'NCCn1ccnc1', b'C1CCNCC1', b'NCCSSCCN', b'NCCCc1ncc[nH]1', b'Nc1ncco1', b'CN(C)C(=N)N=C(N)N', b'N#CCCN', b'NCCCCCCCCCCCCN', b'NCc1ccccc1F', b'NCC(F)(F)F', b'Nc1ccc(-c2ccccc2)cc1', b'CNCc1cc2ccccc2s1', b'NCCc1ccc(-c2ccc(-c3ccc(-c4cccs4)s3)s2)s1', b'NCC1CCC(CN)CC1', b'NC(N)=S', b'c1cc(-c2ccncc2)ccn1', b'NCC1CCCCN1', b'CCCC(C)[NH3+]', b'NCCc1cccs1', b'CN', b'NCCN', b'COC(=O)CN', b'NCCc1cc(Br)cc(Br)c1', b'NCCc1ccc(Br)cc1', b'CC(C)CN', b'CCCCC(CC)CN', b'NCCO', b'NCCc1ccccc1F', b'NCCc1cc(Cl)cc(Cl)c1', b'CN(C)c1ccc(N)cc1', b'CCOc1nnc(OCCN)nn1', b'NCCc1ncc[nH]1', b'NCCc1ccc2ccccc2c1', b'NCCc1ccc(F)cc1', b'NCCCOc1ccc2ccc3cccc4ccc1c2c34', b'CS(=O)(=O)CCN', b'CCCCN', b'NCC(F)F', b'CCCCCCN', b'c1ccc2[nH]cnc2c1', b'CCCN', b'NCCCC(=O)O', b'NCCCc1ccc(-c2cccs2)s1', b'C1=C[N+]=CC=N1', b'NCCCS(=O)(=O)O', b'NCC(=O)O', b'NCCSc1ccc(-c2cccs2)s1', b'C1CSCCN1', b'NCCBr', b'NCc1ccc(C(F)(F)F)cc1', b'NCCC1CCOCC1', b'CCCCCCCCCCCCCCCCN', b'N#CCN', b'NC1CCC(F)(F)CC1', b'NCCC1CCCCN1', b'CCCCCC(C)[NH3+]', b'NCCS(=O)(=O)O', b'Nc1c(F)c(F)c(N)c(F)c1F', b'c1c[nH]c(-c2ncc[nH]2)n1', b'NC1CCCC1', b'CC(CN)CCCN', b'NCCCN', b'NCCCO', b'NCCC(N)=O', b'CCCCCCCCCCCN', b'O=S1(=O)CCNCC1', b'NCCCCC(=O)O', b'N=CN', b'CCCCC#CC#CCCN', b'CNN', b'NCc1ccc(Cl)cc1F', b'COc1ccc(CCN)cc1', b'NCCc1cnc[nH]1']\n",
      "209\n"
     ]
    }
   ],
   "source": [
    "keys = list(all_embeddings.keys())\n",
    "print(keys)\n",
    "print(len(keys))"
   ]
  },
  {
   "cell_type": "code",
   "execution_count": 14,
   "metadata": {},
   "outputs": [
    {
     "name": "stdout",
     "output_type": "stream",
     "text": [
      "C1=C[N+]=CC=N1\n"
     ]
    }
   ],
   "source": [
    "print(keys[2].decode('UTF-8'))"
   ]
  },
  {
   "cell_type": "code",
   "execution_count": null,
   "metadata": {},
   "outputs": [],
   "source": []
  }
 ],
 "metadata": {
  "kernelspec": {
   "display_name": "bpo",
   "language": "python",
   "name": "python3"
  },
  "language_info": {
   "codemirror_mode": {
    "name": "ipython",
    "version": 3
   },
   "file_extension": ".py",
   "mimetype": "text/x-python",
   "name": "python",
   "nbconvert_exporter": "python",
   "pygments_lexer": "ipython3",
   "version": "3.9.9"
  }
 },
 "nbformat": 4,
 "nbformat_minor": 2
}
