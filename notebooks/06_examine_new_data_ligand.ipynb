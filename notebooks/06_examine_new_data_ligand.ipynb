{
 "cells": [
  {
   "cell_type": "code",
   "execution_count": 2,
   "metadata": {},
   "outputs": [],
   "source": [
    "import numpy as np\n",
    "import sys\n",
    "import os\n",
    "\n",
    "sys.path.append(\"../\")\n",
    "\n",
    "from src.utils.constants import HOME_DIR, DATA_DIR"
   ]
  },
  {
   "cell_type": "code",
   "execution_count": 3,
   "metadata": {},
   "outputs": [],
   "source": [
    "labelled_data_path = os.path.join(HOME_DIR, DATA_DIR, \"labelled_dataset.npz\")\n",
    "unlablleled_data_path = os.path.join(HOME_DIR, DATA_DIR, \"unlabelled_dataset.npz\")\n",
    "\n",
    "labelled_data = np.load(labelled_data_path)\n",
    "unlabelled_data = np.load(unlablleled_data_path)"
   ]
  },
  {
   "cell_type": "code",
   "execution_count": 4,
   "metadata": {},
   "outputs": [
    {
     "name": "stdout",
     "output_type": "stream",
     "text": [
      "['X_MH', 'X_L', 'Y', 'X_MH_labels', 'X_qual_num_classes', 'reaction_ids']\n"
     ]
    }
   ],
   "source": [
    "print(labelled_data.files)\n",
    "# >> ['X_MH', 'X_L', 'X_MH_labels', 'Y', 'X_qual_num_classes', 'reaction_ids']"
   ]
  },
  {
   "cell_type": "code",
   "execution_count": 5,
   "metadata": {},
   "outputs": [
    {
     "name": "stdout",
     "output_type": "stream",
     "text": [
      "X_MH shape: (270, 17)\n",
      "X_L shape: (270, 512)\n",
      "X_MH_labels shape: (17,)\n",
      "Y shape: (270,)\n",
      "X_qual_num_classes shape: (2,)\n",
      "reaction_ids shape: (270,)\n"
     ]
    }
   ],
   "source": [
    "print(f\"X_MH shape: {labelled_data['X_MH'].shape}\")\n",
    "print(f\"X_L shape: {labelled_data['X_L'].shape}\")\n",
    "print(f\"X_MH_labels shape: {labelled_data['X_MH_labels'].shape}\")\n",
    "print(f\"Y shape: {labelled_data['Y'].shape}\")\n",
    "print(f\"X_qual_num_classes shape: {labelled_data['X_qual_num_classes'].shape}\")\n",
    "print(f\"reaction_ids shape: {labelled_data['reaction_ids'].shape}\")"
   ]
  },
  {
   "cell_type": "code",
   "execution_count": null,
   "metadata": {},
   "outputs": [],
   "source": []
  }
 ],
 "metadata": {
  "kernelspec": {
   "display_name": "venv39",
   "language": "python",
   "name": "python3"
  },
  "language_info": {
   "codemirror_mode": {
    "name": "ipython",
    "version": 3
   },
   "file_extension": ".py",
   "mimetype": "text/x-python",
   "name": "python",
   "nbconvert_exporter": "python",
   "pygments_lexer": "ipython3",
   "version": "3.9.9"
  }
 },
 "nbformat": 4,
 "nbformat_minor": 2
}
