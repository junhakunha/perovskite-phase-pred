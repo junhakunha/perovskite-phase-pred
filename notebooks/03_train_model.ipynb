{
 "cells": [
  {
   "cell_type": "code",
   "execution_count": 1,
   "metadata": {},
   "outputs": [],
   "source": [
    "import os\n",
    "import sys\n",
    "import numpy as np\n",
    "import torch\n",
    "from torch.optim import Adam\n",
    "from torch.utils.tensorboard import SummaryWriter\n",
    "from torch.utils.data import DataLoader\n",
    "from torch.utils.data import WeightedRandomSampler\n",
    "\n",
    "sys.path.append(\"../\")\n",
    "\n",
    "from src.models import PhasePredictor\n",
    "from src.datasets import PhaseDataset\n",
    "from src.utils.constants import DATA_DIR, DEVICE, SEED"
   ]
  },
  {
   "cell_type": "code",
   "execution_count": 2,
   "metadata": {},
   "outputs": [],
   "source": [
    "device = torch.device(DEVICE)"
   ]
  },
  {
   "cell_type": "code",
   "execution_count": 3,
   "metadata": {},
   "outputs": [],
   "source": [
    "data_path = os.path.join(DATA_DIR, \"labelled_dataset.npz\")\n",
    "\n",
    "data = np.load(data_path)"
   ]
  },
  {
   "cell_type": "code",
   "execution_count": 4,
   "metadata": {},
   "outputs": [
    {
     "name": "stdout",
     "output_type": "stream",
     "text": [
      "['X', 'Y', 'X_labels', 'X_qual_num_classes', 'reaction_ids']\n"
     ]
    }
   ],
   "source": [
    "print(data.files)"
   ]
  },
  {
   "cell_type": "code",
   "execution_count": 5,
   "metadata": {},
   "outputs": [],
   "source": [
    "X = data[\"X\"]\n",
    "Y = data[\"Y\"]\n",
    "X_labels = data['X_labels']\n",
    "qual_input_dims = data['X_qual_num_classes']\n",
    "\n",
    "num_data_points = X.shape[0]"
   ]
  },
  {
   "cell_type": "code",
   "execution_count": 6,
   "metadata": {},
   "outputs": [],
   "source": [
    "random_indices = torch.randperm(num_data_points)\n",
    "num_train = int(num_data_points*0.8)\n",
    "\n",
    "X = torch.tensor(X, device=device).float()\n",
    "Y = torch.tensor(Y, device=device).float()\n",
    "\n",
    "train_dataset = PhaseDataset(X[random_indices[0:num_train]],\n",
    "                             Y[random_indices[0:num_train]])\n",
    "test_dataset = PhaseDataset(X[random_indices[num_train:]],\n",
    "                            Y[random_indices[num_train:]])\n",
    "\n",
    "\n",
    "class_sample_count = np.array([len(torch.where(train_dataset.Y == t)[0])\n",
    "                               for t in np.unique(train_dataset.Y)])\n",
    "\n",
    "\n",
    "class_sample_count = torch.tensor([len(torch.where(train_dataset.Y == t)[0])\n",
    "                                   for t in np.unique(train_dataset.Y)])\n",
    "weight = 1. / class_sample_count\n",
    "samples_weight = torch.tensor([weight[t.long()] for t in train_dataset.Y])\n",
    "sampler = WeightedRandomSampler(samples_weight,\n",
    "                                len(samples_weight))\n",
    "train_dataloader = DataLoader(train_dataset, batch_size=16,\n",
    "                              sampler=sampler)\n",
    "                              # sampler=sampler)\n",
    "\n",
    "test_dataloader = DataLoader(test_dataset, batch_size=16,\n",
    "                             shuffle=False)"
   ]
  },
  {
   "cell_type": "code",
   "execution_count": 7,
   "metadata": {},
   "outputs": [
    {
     "name": "stderr",
     "output_type": "stream",
     "text": [
      "/Users/junhalee/Desktop/perovskite-phase-pred/venv39/lib/python3.9/site-packages/torch/optim/lr_scheduler.py:28: UserWarning: The verbose parameter is deprecated. Please use get_last_lr() to access the learning rate.\n",
      "  warnings.warn(\"The verbose parameter is deprecated. Please use get_last_lr() \"\n"
     ]
    }
   ],
   "source": [
    "pp = PhasePredictor(input_dim=X.shape[1], \n",
    "                    qual_input_dims=qual_input_dims, \n",
    "                    latent_dimension=64)\n",
    "pp_opt = Adam(pp.parameters(), lr=3e-4)\n",
    "pp_scheduler = torch.optim.lr_scheduler.ReduceLROnPlateau(pp_opt, patience=10, factor=0.5, verbose=True)"
   ]
  },
  {
   "cell_type": "code",
   "execution_count": 8,
   "metadata": {},
   "outputs": [],
   "source": [
    "writer = SummaryWriter(log_dir=\"./test_wrs/\")\n",
    "for epoch in range(400):\n",
    "    num_train_batches = len(train_dataloader)\n",
    "    num_test_batches = len(test_dataloader)\n",
    "\n",
    "    epoch_train_loss = 0\n",
    "    epoch_test_loss = 0\n",
    "    for (train_x, train_y) in train_dataloader:\n",
    "        pred_y = pp(train_x).flatten()\n",
    "        #Bce loss\n",
    "        loss = torch.nn.BCELoss()(pred_y, train_y)\n",
    "        epoch_train_loss += loss\n",
    "        pp_opt.zero_grad()\n",
    "        loss.backward()\n",
    "        pp_opt.step()\n",
    "\n",
    "        epoch_train_loss += loss.item()\n",
    "    \n",
    "    for (test_x, test_y) in test_dataloader:\n",
    "        pred_y = pp(test_x).flatten()\n",
    "        loss = torch.nn.BCELoss()(pred_y, test_y)\n",
    "        epoch_test_loss += loss.item()\n",
    "    epoch_train_loss /= num_train_batches\n",
    "    epoch_test_loss /= num_test_batches\n",
    "\n",
    "    writer.add_scalar(\"Loss/train\", epoch_train_loss, epoch)\n",
    "    writer.add_scalar(\"Loss/test\", epoch_test_loss, epoch)\n",
    "    pp_scheduler.step(epoch_test_loss)\n",
    "    "
   ]
  },
  {
   "cell_type": "code",
   "execution_count": 9,
   "metadata": {},
   "outputs": [],
   "source": [
    "all_outputs = []\n",
    "all_classes = []\n",
    "with torch.no_grad():\n",
    "    for i, (inputs, classes) in enumerate(test_dataloader):\n",
    "        outputs = pp(inputs)\n",
    "        all_outputs.append(outputs)\n",
    "        all_classes.append(classes)"
   ]
  },
  {
   "cell_type": "code",
   "execution_count": 10,
   "metadata": {},
   "outputs": [],
   "source": [
    "all_outputs = torch.round(torch.cat(all_outputs)).flatten()\n",
    "all_classes = torch.round(torch.cat(all_classes)).flatten()"
   ]
  },
  {
   "cell_type": "code",
   "execution_count": 11,
   "metadata": {},
   "outputs": [],
   "source": [
    "from sklearn.metrics import confusion_matrix\n",
    "import matplotlib.pyplot as plt\n",
    "import seaborn as sns\n",
    "import numpy as np"
   ]
  },
  {
   "cell_type": "code",
   "execution_count": 12,
   "metadata": {},
   "outputs": [
    {
     "data": {
      "image/png": "[encoded data removed]",
      "text/plain": [
       "<Figure size 800x600 with 2 Axes>"
      ]
     },
     "metadata": {},
     "output_type": "display_data"
    }
   ],
   "source": [
    "actual_labels = all_classes.tolist()\n",
    "predicted_labels = all_outputs.tolist()\n",
    "\n",
    "# Create confusion matrix\n",
    "cm = confusion_matrix(actual_labels, predicted_labels)\n",
    "\n",
    "# Plot confusion matrix\n",
    "plt.figure(figsize=(8, 6))\n",
    "sns.heatmap(cm, annot=True, fmt='d', cmap='Blues', xticklabels=np.unique(\n",
    "    actual_labels), yticklabels=np.unique(actual_labels))\n",
    "plt.xlabel('Predicted labels')\n",
    "plt.ylabel('True labels')\n",
    "plt.title('Confusion Matrix')\n",
    "plt.show()"
   ]
  },
  {
   "cell_type": "code",
   "execution_count": null,
   "metadata": {},
   "outputs": [],
   "source": []
  }
 ],
 "metadata": {
  "kernelspec": {
   "display_name": "cgpomm",
   "language": "python",
   "name": "python3"
  },
  "language_info": {
   "codemirror_mode": {
    "name": "ipython",
    "version": 3
   },
   "file_extension": ".py",
   "mimetype": "text/x-python",
   "name": "python",
   "nbconvert_exporter": "python",
   "pygments_lexer": "ipython3",
   "version": "3.9.9"
  }
 },
 "nbformat": 4,
 "nbformat_minor": 2
}
